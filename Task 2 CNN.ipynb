{
  "nbformat": 4,
  "nbformat_minor": 0,
  "metadata": {
    "colab": {
      "name": "Task 2 CNN.ipynb",
      "version": "0.3.2",
      "provenance": []
    },
    "language_info": {
      "codemirror_mode": {
        "name": "ipython",
        "version": 3
      },
      "file_extension": ".py",
      "mimetype": "text/x-python",
      "name": "python",
      "nbconvert_exporter": "python",
      "pygments_lexer": "ipython3",
      "version": "3.6.7"
    },
    "kernelspec": {
      "display_name": "Python 3",
      "language": "python",
      "name": "python3"
    }
  },
  "cells": [
    {
      "cell_type": "markdown",
      "metadata": {
        "id": "G8PQbjzSSYsJ",
        "colab_type": "text"
      },
      "source": [
        "30 points task\n",
        "\n",
        "Deadline 02.06 23:59\n",
        "\n",
        "### **In class**\n",
        "* Load Fashion MNIST from keras.datasets\n",
        "    * Train MLP and Random Forest on Fashion MNIST\n",
        "* For MLP use parameters search via grid search or random search\n",
        "    * Train CNN on Fashion MNIST with parameters search\n",
        "* Try to reach better performance than MLP\n",
        "\n",
        "### **Hometask**\n",
        "\n",
        "* Train CNN autoencoder on Fashion MNIST with short parameters search\n",
        "    * You should train AE using Cross-validation (not simple train/test split) and predict all data in CV manner\n",
        "* Train MLP and Random Forest on the latent vector from TRAINED CNN autoencoder\n",
        "* Compare all results using plot/plots\n",
        "\n"
      ]
    },
    {
      "cell_type": "code",
      "metadata": {
        "id": "AmxkZIKwAZX3",
        "colab_type": "code",
        "colab": {
          "base_uri": "https://localhost:8080/",
          "height": 34
        },
        "outputId": "45ce6ea4-c38a-48be-ce9e-018d324420f8"
      },
      "source": [
        "from __future__ import print_function\n",
        "from keras.datasets import fashion_mnist\n",
        "import keras\n",
        "from keras.layers.core import Dense, Dropout\n",
        "from keras.layers import Conv2D, MaxPool2D, Flatten\n",
        "from keras.layers import Input\n",
        "from keras.utils import np_utils\n",
        "from keras.models import Model\n",
        "from keras.models import Sequential\n",
        "from keras.optimizers import RMSprop\n",
        "import matplotlib.pyplot as plt\n",
        "from sklearn.model_selection import ParameterGrid\n",
        "from keras.regularizers import l2,l1\n",
        "import os\n",
        "import numpy as np\n",
        "import pandas as pd\n",
        "from sklearn.model_selection import GridSearchCV\n",
        "from sklearn.ensemble import RandomForestClassifier\n",
        "from keras.wrappers.scikit_learn import KerasClassifier\n",
        "from sklearn.metrics import accuracy_score\n",
        "from sklearn.model_selection import StratifiedKFold\n",
        "\n",
        "os.environ['KMP_DUPLICATE_LIB_OK']='True'\n"
      ],
      "execution_count": 1,
      "outputs": [
        {
          "output_type": "stream",
          "text": [
            "Using TensorFlow backend.\n"
          ],
          "name": "stderr"
        }
      ]
    },
    {
      "cell_type": "code",
      "metadata": {
        "id": "IRlm4WZ-_aVw",
        "colab_type": "code",
        "colab": {}
      },
      "source": [
        "from google.colab import drive\n",
        "drive.mount('/content/gdrive')"
      ],
      "execution_count": 0,
      "outputs": []
    },
    {
      "cell_type": "code",
      "metadata": {
        "id": "HSuRktaUAZYF",
        "colab_type": "code",
        "colab": {
          "base_uri": "https://localhost:8080/",
          "height": 153
        },
        "outputId": "4d545355-0708-4b63-9de5-f29b80b3bc6a"
      },
      "source": [
        "# Data\n",
        "(x_train, y_train), (x_test, y_test) = fashion_mnist.load_data()"
      ],
      "execution_count": 2,
      "outputs": [
        {
          "output_type": "stream",
          "text": [
            "Downloading data from http://fashion-mnist.s3-website.eu-central-1.amazonaws.com/train-labels-idx1-ubyte.gz\n",
            "32768/29515 [=================================] - 0s 3us/step\n",
            "Downloading data from http://fashion-mnist.s3-website.eu-central-1.amazonaws.com/train-images-idx3-ubyte.gz\n",
            "26427392/26421880 [==============================] - 2s 0us/step\n",
            "Downloading data from http://fashion-mnist.s3-website.eu-central-1.amazonaws.com/t10k-labels-idx1-ubyte.gz\n",
            "8192/5148 [===============================================] - 0s 0us/step\n",
            "Downloading data from http://fashion-mnist.s3-website.eu-central-1.amazonaws.com/t10k-images-idx3-ubyte.gz\n",
            "4423680/4422102 [==============================] - 1s 0us/step\n"
          ],
          "name": "stdout"
        }
      ]
    },
    {
      "cell_type": "code",
      "metadata": {
        "id": "IO62IKqyAZYI",
        "colab_type": "code",
        "colab": {
          "base_uri": "https://localhost:8080/",
          "height": 85
        },
        "outputId": "c399f201-f862-403b-f55f-9925e4e0d8c8"
      },
      "source": [
        "print(x_train.shape)\n",
        "print(x_train[0].shape)\n",
        "print(y_train.shape)\n",
        "print(y_train[0])"
      ],
      "execution_count": 3,
      "outputs": [
        {
          "output_type": "stream",
          "text": [
            "(60000, 28, 28)\n",
            "(28, 28)\n",
            "(60000,)\n",
            "9\n"
          ],
          "name": "stdout"
        }
      ]
    },
    {
      "cell_type": "code",
      "metadata": {
        "id": "BM-V6T1v_dRe",
        "colab_type": "code",
        "colab": {}
      },
      "source": [
        "# Helper Method to print first 25 elements\n",
        "def display_images(x_data):\n",
        "    target_dict = {\n",
        "     0: 'T-shirt/top',\n",
        "     1: 'Trouser',\n",
        "     2: 'Pullover',\n",
        "     3: 'Dress',\n",
        "     4: 'Coat',\n",
        "     5: 'Sandal',\n",
        "     6: 'Shirt',\n",
        "     7: 'Sneaker',\n",
        "     8: 'Bag',\n",
        "     9: 'Ankle boot',\n",
        "    }\n",
        "    x_data = x_data.reshape(60000,28,28)\n",
        "    \n",
        "    plt.figure(figsize=(10,10))\n",
        "    for i in range(0,25):\n",
        "        plt.subplot(5,5, i+1)\n",
        "        plt.imshow(x_data[i] )\n",
        "        plt.title( target_dict[(y_train[i]) ])\n",
        "        plt.axis('off')\n",
        "        plt.xticks([])\n",
        "        plt.yticks([])"
      ],
      "execution_count": 0,
      "outputs": []
    },
    {
      "cell_type": "markdown",
      "metadata": {
        "id": "bblfZlzDAZYL",
        "colab_type": "text"
      },
      "source": [
        "# MLP"
      ]
    },
    {
      "cell_type": "code",
      "metadata": {
        "id": "AFiCd9DYAZYM",
        "colab_type": "code",
        "colab": {}
      },
      "source": [
        "def prepare_data_for_MLP(x_train, y_train, x_test, y_test):\n",
        "    num_classes = 10\n",
        "    x_train = x_train.reshape(60000, 784)\n",
        "    x_test = x_test.reshape(10000, 784)\n",
        "    x_train = x_train.astype('float32')\n",
        "    x_test = x_test.astype('float32')\n",
        "    x_train /= 255\n",
        "    x_test /= 255\n",
        "#     y_train = keras.utils.to_categorical(y_train, num_classes)\n",
        "    y_test_one_hot = keras.utils.to_categorical(y_test, num_classes)\n",
        "    print('Data Loaded with Sample sizes')\n",
        "    print('Train Sample Size: {}  '.format(x_train.shape[0]))\n",
        "    print('Test Sample Size: {}'.format(x_test.shape[0]))\n",
        "    return x_train, y_train, x_test, y_test, y_test_one_hot"
      ],
      "execution_count": 0,
      "outputs": []
    },
    {
      "cell_type": "code",
      "metadata": {
        "id": "VcTuPvEoAZYO",
        "colab_type": "code",
        "colab": {
          "base_uri": "https://localhost:8080/",
          "height": 68
        },
        "outputId": "57aaa958-a654-4af0-a8c4-a78e6bff5703"
      },
      "source": [
        "x_train_mlp, y_train_mlp, x_test_mlp, y_test_mlp, y_test_mlp_one_hot = prepare_data_for_MLP(x_train, y_train, x_test, y_test)"
      ],
      "execution_count": 6,
      "outputs": [
        {
          "output_type": "stream",
          "text": [
            "Data Loaded with Sample sizes\n",
            "Train Sample Size: 60000  \n",
            "Test Sample Size: 10000\n"
          ],
          "name": "stdout"
        }
      ]
    },
    {
      "cell_type": "code",
      "metadata": {
        "id": "m_DnnZROAZYV",
        "colab_type": "code",
        "colab": {
          "base_uri": "https://localhost:8080/",
          "height": 591
        },
        "outputId": "eaef65c9-8190-4097-e87f-ef3364a51a92"
      },
      "source": [
        "display_images(x_train)"
      ],
      "execution_count": 7,
      "outputs": [
        {
          "output_type": "display_data",
          "data": {
            "image/png": "[encoded data removed]",
            "text/plain": [
              "<Figure size 720x720 with 25 Axes>"
            ]
          },
          "metadata": {
            "tags": []
          }
        }
      ]
    },
    {
      "cell_type": "code",
      "metadata": {
        "id": "oLVXe0afAZYb",
        "colab_type": "code",
        "colab": {}
      },
      "source": [
        "class MLPModel:\n",
        "    def __init__(self,x_train, y_train, x_test, y_test, epochs, batch_size=128):\n",
        "        self.x_train = x_train\n",
        "        self.y_train = y_train\n",
        "        self.x_test = x_test\n",
        "        self.y_test = y_test\n",
        "        self.epochs = epochs\n",
        "        self.batch_size=batch_size\n",
        "        self.model = Sequential()\n",
        "\n",
        "    \n",
        "    def build_model(self, layers, activation, optimizer, regularization=None, dropout = 0.0):\n",
        "        print(layers, activation, optimizer, regularization, dropout)\n",
        "        for i in range(len(layers)):  \n",
        "            if regularization:\n",
        "                regu = l2(regularization[1]) if regularization[0] == 'l2' else l1(regularization[1])\n",
        "\n",
        "            if i==0:\n",
        "                # If First layer have to input size otherwise let it go\n",
        "                self.model.add(Dense(layers[i], activation=activation, input_shape=self.x_train[0].shape, kernel_regularizer=regu))\n",
        "            else:\n",
        "                self.model.add(Dense(layers[i], activation=activation, kernel_regularizer=regu))\n",
        "\n",
        "            if dropout:\n",
        "                self.model.add(Dropout(dropout))\n",
        "        \n",
        "        self.model.add(Dense(10, activation='softmax'))\n",
        "        self.model.summary()\n",
        "        self.model.compile(loss='categorical_crossentropy', optimizer=optimizer,  metrics=['accuracy'])\n",
        "        return self.model\n",
        "    \n",
        "    def train_model(self):\n",
        "        return self.model.fit(self.x_train, self.y_train, batch_size=self.batch_size, epochs=self.epochs, verbose=2, validation_data=(self.x_test, self.y_test))      \n",
        "        \n",
        "    \n",
        "    def print_head(self, n= 10):\n",
        "        plt.figure(figsize=(20, 4))\n",
        "        for i in range(1,n):\n",
        "            ax = plt.subplot(2, n, i)\n",
        "            plt.imshow(self.x_train[i].reshape(28, 28))\n",
        "            plt.gray()\n",
        "            ax.get_xaxis().set_visible(False)\n",
        "            ax.get_yaxis().set_visible(False)\n",
        "        plt.show()\n",
        "        \n",
        "        "
      ],
      "execution_count": 0,
      "outputs": []
    },
    {
      "cell_type": "code",
      "metadata": {
        "id": "c4H7NY6XAZYe",
        "colab_type": "code",
        "colab": {}
      },
      "source": [
        "parameters = { 'layers': [[512, 512], [512, 512, 512]], \n",
        "                     'activation': ['relu', 'elu'],\n",
        "                     'optimizer' : ['adam'],\n",
        "                     'dropout' : [0.2],\n",
        "                     'regularization' : [ ('l2', 0.001) ]\n",
        "                   }"
      ],
      "execution_count": 0,
      "outputs": []
    },
    {
      "cell_type": "code",
      "metadata": {
        "id": "TrTwvlv_AZYh",
        "colab_type": "code",
        "colab": {
          "base_uri": "https://localhost:8080/",
          "height": 9129
        },
        "outputId": "23699755-3dcb-48b3-e190-ec4f3d32e675"
      },
      "source": [
        "\n",
        "m = MLPModel(x_train_mlp, y_train_mlp, x_test_mlp, y_test_mlp, 10)\n",
        "model = KerasClassifier(build_fn=m.build_model,epochs=10, batch_size=128)\n",
        "grid_search = GridSearchCV(estimator=model, param_grid=parameters, cv=3)\n",
        "grid_result = grid_search.fit(x_train_mlp, y_train_mlp)\n",
        "\n"
      ],
      "execution_count": 13,
      "outputs": [
        {
          "output_type": "stream",
          "text": [
            "/usr/local/lib/python3.6/dist-packages/keras/engine/saving.py:292: UserWarning: No training configuration found in save file: the model was *not* compiled. Compile it manually.\n",
            "  warnings.warn('No training configuration found in save file: '\n"
          ],
          "name": "stderr"
        },
        {
          "output_type": "stream",
          "text": [
            "[512, 512] relu adam ('l2', 0.001) 0.2\n",
            "_________________________________________________________________\n",
            "Layer (type)                 Output Shape              Param #   \n",
            "=================================================================\n",
            "dense_4 (Dense)              (None, 512)               401920    \n",
            "_________________________________________________________________\n",
            "dropout_3 (Dropout)          (None, 512)               0         \n",
            "_________________________________________________________________\n",
            "dense_5 (Dense)              (None, 512)               262656    \n",
            "_________________________________________________________________\n",
            "dropout_4 (Dropout)          (None, 512)               0         \n",
            "_________________________________________________________________\n",
            "dense_6 (Dense)              (None, 10)                5130      \n",
            "=================================================================\n",
            "Total params: 669,706\n",
            "Trainable params: 669,706\n",
            "Non-trainable params: 0\n",
            "_________________________________________________________________\n",
            "Epoch 1/10\n",
            "40000/40000 [==============================] - 8s 194us/step - loss: 1.2113 - acc: 0.7950\n",
            "Epoch 2/10\n",
            "40000/40000 [==============================] - 7s 182us/step - loss: 0.7409 - acc: 0.8434\n",
            "Epoch 3/10\n",
            "40000/40000 [==============================] - 7s 183us/step - loss: 0.6137 - acc: 0.8511\n",
            "Epoch 4/10\n",
            "40000/40000 [==============================] - 7s 184us/step - loss: 0.5496 - acc: 0.8572\n",
            "Epoch 5/10\n",
            "40000/40000 [==============================] - 7s 184us/step - loss: 0.5283 - acc: 0.8565\n",
            "Epoch 6/10\n",
            "40000/40000 [==============================] - 7s 184us/step - loss: 0.5083 - acc: 0.8602\n",
            "Epoch 7/10\n",
            "40000/40000 [==============================] - 7s 184us/step - loss: 0.4957 - acc: 0.8634\n",
            "Epoch 8/10\n",
            "40000/40000 [==============================] - 7s 187us/step - loss: 0.4809 - acc: 0.8640\n",
            "Epoch 9/10\n",
            "40000/40000 [==============================] - 7s 186us/step - loss: 0.4796 - acc: 0.8646\n",
            "Epoch 10/10\n",
            "40000/40000 [==============================] - 7s 186us/step - loss: 0.4701 - acc: 0.8693\n",
            "20000/20000 [==============================] - 1s 56us/step\n",
            "[512, 512] relu adam ('l2', 0.001) 0.2\n",
            "_________________________________________________________________\n",
            "Layer (type)                 Output Shape              Param #   \n",
            "=================================================================\n",
            "dense_7 (Dense)              (None, 512)               401920    \n",
            "_________________________________________________________________\n",
            "dropout_5 (Dropout)          (None, 512)               0         \n",
            "_________________________________________________________________\n",
            "dense_8 (Dense)              (None, 512)               262656    \n",
            "_________________________________________________________________\n",
            "dropout_6 (Dropout)          (None, 512)               0         \n",
            "_________________________________________________________________\n",
            "dense_9 (Dense)              (None, 10)                5130      \n",
            "=================================================================\n",
            "Total params: 669,706\n",
            "Trainable params: 669,706\n",
            "Non-trainable params: 0\n",
            "_________________________________________________________________\n",
            "Epoch 1/10\n",
            "40000/40000 [==============================] - 8s 210us/step - loss: 1.1909 - acc: 0.7935\n",
            "Epoch 2/10\n",
            "40000/40000 [==============================] - 8s 195us/step - loss: 0.7395 - acc: 0.8407\n",
            "Epoch 3/10\n",
            "40000/40000 [==============================] - 8s 195us/step - loss: 0.6077 - acc: 0.8499\n",
            "Epoch 4/10\n",
            "40000/40000 [==============================] - 8s 193us/step - loss: 0.5572 - acc: 0.8520\n",
            "Epoch 5/10\n",
            "40000/40000 [==============================] - 8s 190us/step - loss: 0.5189 - acc: 0.8584\n",
            "Epoch 6/10\n",
            "40000/40000 [==============================] - 8s 190us/step - loss: 0.5048 - acc: 0.8593\n",
            "Epoch 7/10\n",
            "40000/40000 [==============================] - 8s 188us/step - loss: 0.4940 - acc: 0.8609\n",
            "Epoch 8/10\n",
            "40000/40000 [==============================] - 7s 186us/step - loss: 0.4830 - acc: 0.8628\n",
            "Epoch 9/10\n",
            "40000/40000 [==============================] - 7s 184us/step - loss: 0.4741 - acc: 0.8659\n",
            "Epoch 10/10\n",
            "40000/40000 [==============================] - 8s 188us/step - loss: 0.4690 - acc: 0.8675\n",
            "20000/20000 [==============================] - 1s 53us/step\n",
            "[512, 512] relu adam ('l2', 0.001) 0.2\n",
            "_________________________________________________________________\n",
            "Layer (type)                 Output Shape              Param #   \n",
            "=================================================================\n",
            "dense_10 (Dense)             (None, 512)               401920    \n",
            "_________________________________________________________________\n",
            "dropout_7 (Dropout)          (None, 512)               0         \n",
            "_________________________________________________________________\n",
            "dense_11 (Dense)             (None, 512)               262656    \n",
            "_________________________________________________________________\n",
            "dropout_8 (Dropout)          (None, 512)               0         \n",
            "_________________________________________________________________\n",
            "dense_12 (Dense)             (None, 10)                5130      \n",
            "=================================================================\n",
            "Total params: 669,706\n",
            "Trainable params: 669,706\n",
            "Non-trainable params: 0\n",
            "_________________________________________________________________\n",
            "Epoch 1/10\n",
            "40000/40000 [==============================] - 8s 194us/step - loss: 1.2094 - acc: 0.7923\n",
            "Epoch 2/10\n",
            "40000/40000 [==============================] - 7s 180us/step - loss: 0.7459 - acc: 0.8418\n",
            "Epoch 3/10\n",
            "40000/40000 [==============================] - 8s 188us/step - loss: 0.6109 - acc: 0.8495\n",
            "Epoch 4/10\n",
            "40000/40000 [==============================] - 8s 199us/step - loss: 0.5541 - acc: 0.8552\n",
            "Epoch 5/10\n",
            "40000/40000 [==============================] - 7s 186us/step - loss: 0.5216 - acc: 0.8591\n",
            "Epoch 6/10\n",
            "40000/40000 [==============================] - 7s 184us/step - loss: 0.5076 - acc: 0.8588\n",
            "Epoch 7/10\n",
            "40000/40000 [==============================] - 7s 184us/step - loss: 0.4905 - acc: 0.8625\n",
            "Epoch 8/10\n",
            "40000/40000 [==============================] - 7s 183us/step - loss: 0.4830 - acc: 0.8636\n",
            "Epoch 9/10\n",
            "40000/40000 [==============================] - 7s 179us/step - loss: 0.4699 - acc: 0.8667\n",
            "Epoch 10/10\n",
            "40000/40000 [==============================] - 7s 184us/step - loss: 0.4691 - acc: 0.8668\n",
            "20000/20000 [==============================] - 1s 58us/step\n",
            "[512, 512, 512] relu adam ('l2', 0.001) 0.2\n",
            "_________________________________________________________________\n",
            "Layer (type)                 Output Shape              Param #   \n",
            "=================================================================\n",
            "dense_13 (Dense)             (None, 512)               401920    \n",
            "_________________________________________________________________\n",
            "dropout_9 (Dropout)          (None, 512)               0         \n",
            "_________________________________________________________________\n",
            "dense_14 (Dense)             (None, 512)               262656    \n",
            "_________________________________________________________________\n",
            "dropout_10 (Dropout)         (None, 512)               0         \n",
            "_________________________________________________________________\n",
            "dense_15 (Dense)             (None, 512)               262656    \n",
            "_________________________________________________________________\n",
            "dropout_11 (Dropout)         (None, 512)               0         \n",
            "_________________________________________________________________\n",
            "dense_16 (Dense)             (None, 10)                5130      \n",
            "=================================================================\n",
            "Total params: 932,362\n",
            "Trainable params: 932,362\n",
            "Non-trainable params: 0\n",
            "_________________________________________________________________\n",
            "Epoch 1/10\n",
            "40000/40000 [==============================] - 11s 273us/step - loss: 1.4644 - acc: 0.7880\n",
            "Epoch 2/10\n",
            "40000/40000 [==============================] - 10s 258us/step - loss: 0.8346 - acc: 0.8408\n",
            "Epoch 3/10\n",
            "40000/40000 [==============================] - 10s 251us/step - loss: 0.6604 - acc: 0.8478\n",
            "Epoch 4/10\n",
            "40000/40000 [==============================] - 10s 250us/step - loss: 0.5848 - acc: 0.8542\n",
            "Epoch 5/10\n",
            "40000/40000 [==============================] - 10s 251us/step - loss: 0.5529 - acc: 0.8561\n",
            "Epoch 6/10\n",
            "40000/40000 [==============================] - 10s 252us/step - loss: 0.5277 - acc: 0.8603\n",
            "Epoch 7/10\n",
            "40000/40000 [==============================] - 10s 251us/step - loss: 0.5241 - acc: 0.8586\n",
            "Epoch 8/10\n",
            "40000/40000 [==============================] - 10s 251us/step - loss: 0.5156 - acc: 0.8608\n",
            "Epoch 9/10\n",
            "40000/40000 [==============================] - 10s 256us/step - loss: 0.4983 - acc: 0.8654\n",
            "Epoch 10/10\n",
            "40000/40000 [==============================] - 10s 257us/step - loss: 0.4998 - acc: 0.8635\n",
            "20000/20000 [==============================] - 2s 79us/step\n",
            "[512, 512, 512] relu adam ('l2', 0.001) 0.2\n",
            "_________________________________________________________________\n",
            "Layer (type)                 Output Shape              Param #   \n",
            "=================================================================\n",
            "dense_17 (Dense)             (None, 512)               401920    \n",
            "_________________________________________________________________\n",
            "dropout_12 (Dropout)         (None, 512)               0         \n",
            "_________________________________________________________________\n",
            "dense_18 (Dense)             (None, 512)               262656    \n",
            "_________________________________________________________________\n",
            "dropout_13 (Dropout)         (None, 512)               0         \n",
            "_________________________________________________________________\n",
            "dense_19 (Dense)             (None, 512)               262656    \n",
            "_________________________________________________________________\n",
            "dropout_14 (Dropout)         (None, 512)               0         \n",
            "_________________________________________________________________\n",
            "dense_20 (Dense)             (None, 10)                5130      \n",
            "=================================================================\n",
            "Total params: 932,362\n",
            "Trainable params: 932,362\n",
            "Non-trainable params: 0\n",
            "_________________________________________________________________\n",
            "Epoch 1/10\n",
            "40000/40000 [==============================] - 11s 277us/step - loss: 1.4579 - acc: 0.7870\n",
            "Epoch 2/10\n",
            "40000/40000 [==============================] - 10s 250us/step - loss: 0.8343 - acc: 0.8367\n",
            "Epoch 3/10\n",
            "40000/40000 [==============================] - 10s 250us/step - loss: 0.6601 - acc: 0.8469\n",
            "Epoch 4/10\n",
            "40000/40000 [==============================] - 10s 252us/step - loss: 0.5875 - acc: 0.8520\n",
            "Epoch 5/10\n",
            "40000/40000 [==============================] - 10s 254us/step - loss: 0.5521 - acc: 0.8541\n",
            "Epoch 6/10\n",
            "40000/40000 [==============================] - 10s 250us/step - loss: 0.5407 - acc: 0.8533\n",
            "Epoch 7/10\n",
            "40000/40000 [==============================] - 10s 253us/step - loss: 0.5238 - acc: 0.8588\n",
            "Epoch 8/10\n",
            "40000/40000 [==============================] - 10s 257us/step - loss: 0.5174 - acc: 0.8601\n",
            "Epoch 9/10\n",
            "40000/40000 [==============================] - 10s 258us/step - loss: 0.5042 - acc: 0.8633\n",
            "Epoch 10/10\n",
            "40000/40000 [==============================] - 10s 257us/step - loss: 0.5048 - acc: 0.8611\n",
            "20000/20000 [==============================] - 2s 79us/step\n",
            "[512, 512, 512] relu adam ('l2', 0.001) 0.2\n",
            "_________________________________________________________________\n",
            "Layer (type)                 Output Shape              Param #   \n",
            "=================================================================\n",
            "dense_21 (Dense)             (None, 512)               401920    \n",
            "_________________________________________________________________\n",
            "dropout_15 (Dropout)         (None, 512)               0         \n",
            "_________________________________________________________________\n",
            "dense_22 (Dense)             (None, 512)               262656    \n",
            "_________________________________________________________________\n",
            "dropout_16 (Dropout)         (None, 512)               0         \n",
            "_________________________________________________________________\n",
            "dense_23 (Dense)             (None, 512)               262656    \n",
            "_________________________________________________________________\n",
            "dropout_17 (Dropout)         (None, 512)               0         \n",
            "_________________________________________________________________\n",
            "dense_24 (Dense)             (None, 10)                5130      \n",
            "=================================================================\n",
            "Total params: 932,362\n",
            "Trainable params: 932,362\n",
            "Non-trainable params: 0\n",
            "_________________________________________________________________\n",
            "Epoch 1/10\n",
            "40000/40000 [==============================] - 12s 293us/step - loss: 1.4497 - acc: 0.7822\n",
            "Epoch 2/10\n",
            "40000/40000 [==============================] - 11s 271us/step - loss: 0.8202 - acc: 0.8404\n",
            "Epoch 3/10\n",
            "40000/40000 [==============================] - 11s 268us/step - loss: 0.6498 - acc: 0.8492\n",
            "Epoch 4/10\n",
            "40000/40000 [==============================] - 11s 270us/step - loss: 0.5874 - acc: 0.8498\n",
            "Epoch 5/10\n",
            "40000/40000 [==============================] - 11s 286us/step - loss: 0.5493 - acc: 0.8561\n",
            "Epoch 6/10\n",
            "40000/40000 [==============================] - 11s 271us/step - loss: 0.5246 - acc: 0.8598\n",
            "Epoch 7/10\n",
            "40000/40000 [==============================] - 11s 271us/step - loss: 0.5175 - acc: 0.8602\n",
            "Epoch 8/10\n",
            "40000/40000 [==============================] - 11s 271us/step - loss: 0.5061 - acc: 0.8620\n",
            "Epoch 9/10\n",
            "40000/40000 [==============================] - 11s 269us/step - loss: 0.5057 - acc: 0.8623\n",
            "Epoch 10/10\n",
            "40000/40000 [==============================] - 11s 270us/step - loss: 0.4957 - acc: 0.8645\n",
            "20000/20000 [==============================] - 2s 84us/step\n",
            "[512, 512] elu adam ('l2', 0.001) 0.2\n",
            "_________________________________________________________________\n",
            "Layer (type)                 Output Shape              Param #   \n",
            "=================================================================\n",
            "dense_25 (Dense)             (None, 512)               401920    \n",
            "_________________________________________________________________\n",
            "dropout_18 (Dropout)         (None, 512)               0         \n",
            "_________________________________________________________________\n",
            "dense_26 (Dense)             (None, 512)               262656    \n",
            "_________________________________________________________________\n",
            "dropout_19 (Dropout)         (None, 512)               0         \n",
            "_________________________________________________________________\n",
            "dense_27 (Dense)             (None, 10)                5130      \n",
            "=================================================================\n",
            "Total params: 669,706\n",
            "Trainable params: 669,706\n",
            "Non-trainable params: 0\n",
            "_________________________________________________________________\n",
            "Epoch 1/10\n",
            "40000/40000 [==============================] - 9s 236us/step - loss: 1.3755 - acc: 0.7951\n",
            "Epoch 2/10\n",
            "40000/40000 [==============================] - 8s 206us/step - loss: 0.8853 - acc: 0.8298\n",
            "Epoch 3/10\n",
            "40000/40000 [==============================] - 8s 208us/step - loss: 0.6991 - acc: 0.8377\n",
            "Epoch 4/10\n",
            "40000/40000 [==============================] - 8s 209us/step - loss: 0.6144 - acc: 0.8407\n",
            "Epoch 5/10\n",
            "40000/40000 [==============================] - 8s 209us/step - loss: 0.5689 - acc: 0.8404\n",
            "Epoch 6/10\n",
            "40000/40000 [==============================] - 8s 209us/step - loss: 0.5454 - acc: 0.8452\n",
            "Epoch 7/10\n",
            "40000/40000 [==============================] - 8s 207us/step - loss: 0.5398 - acc: 0.8436\n",
            "Epoch 8/10\n",
            "40000/40000 [==============================] - 8s 206us/step - loss: 0.5293 - acc: 0.8457\n",
            "Epoch 9/10\n",
            "40000/40000 [==============================] - 8s 207us/step - loss: 0.5288 - acc: 0.8442\n",
            "Epoch 10/10\n",
            "40000/40000 [==============================] - 8s 207us/step - loss: 0.5137 - acc: 0.8495\n",
            "20000/20000 [==============================] - 2s 76us/step\n",
            "[512, 512] elu adam ('l2', 0.001) 0.2\n",
            "_________________________________________________________________\n",
            "Layer (type)                 Output Shape              Param #   \n",
            "=================================================================\n",
            "dense_28 (Dense)             (None, 512)               401920    \n",
            "_________________________________________________________________\n",
            "dropout_20 (Dropout)         (None, 512)               0         \n",
            "_________________________________________________________________\n",
            "dense_29 (Dense)             (None, 512)               262656    \n",
            "_________________________________________________________________\n",
            "dropout_21 (Dropout)         (None, 512)               0         \n",
            "_________________________________________________________________\n",
            "dense_30 (Dense)             (None, 10)                5130      \n",
            "=================================================================\n",
            "Total params: 669,706\n",
            "Trainable params: 669,706\n",
            "Non-trainable params: 0\n",
            "_________________________________________________________________\n",
            "Epoch 1/10\n",
            "40000/40000 [==============================] - 9s 227us/step - loss: 1.4040 - acc: 0.7882\n",
            "Epoch 2/10\n",
            "40000/40000 [==============================] - 8s 195us/step - loss: 0.9008 - acc: 0.8288\n",
            "Epoch 3/10\n",
            "40000/40000 [==============================] - 8s 197us/step - loss: 0.7088 - acc: 0.8306\n",
            "Epoch 4/10\n",
            "40000/40000 [==============================] - 8s 196us/step - loss: 0.6165 - acc: 0.8379\n",
            "Epoch 5/10\n",
            "40000/40000 [==============================] - 8s 196us/step - loss: 0.5710 - acc: 0.8394\n",
            "Epoch 6/10\n",
            "40000/40000 [==============================] - 8s 194us/step - loss: 0.5541 - acc: 0.8399\n",
            "Epoch 7/10\n",
            "40000/40000 [==============================] - 8s 199us/step - loss: 0.5461 - acc: 0.8391\n",
            "Epoch 8/10\n",
            "40000/40000 [==============================] - 8s 198us/step - loss: 0.5320 - acc: 0.8418\n",
            "Epoch 9/10\n",
            "40000/40000 [==============================] - 8s 198us/step - loss: 0.5268 - acc: 0.8435\n",
            "Epoch 10/10\n",
            "40000/40000 [==============================] - 8s 204us/step - loss: 0.5175 - acc: 0.8456\n",
            "20000/20000 [==============================] - 2s 76us/step\n",
            "[512, 512] elu adam ('l2', 0.001) 0.2\n",
            "_________________________________________________________________\n",
            "Layer (type)                 Output Shape              Param #   \n",
            "=================================================================\n",
            "dense_31 (Dense)             (None, 512)               401920    \n",
            "_________________________________________________________________\n",
            "dropout_22 (Dropout)         (None, 512)               0         \n",
            "_________________________________________________________________\n",
            "dense_32 (Dense)             (None, 512)               262656    \n",
            "_________________________________________________________________\n",
            "dropout_23 (Dropout)         (None, 512)               0         \n",
            "_________________________________________________________________\n",
            "dense_33 (Dense)             (None, 10)                5130      \n",
            "=================================================================\n",
            "Total params: 669,706\n",
            "Trainable params: 669,706\n",
            "Non-trainable params: 0\n",
            "_________________________________________________________________\n",
            "Epoch 1/10\n",
            "40000/40000 [==============================] - 10s 238us/step - loss: 1.3784 - acc: 0.7925\n",
            "Epoch 2/10\n",
            "40000/40000 [==============================] - 8s 209us/step - loss: 0.8907 - acc: 0.8277\n",
            "Epoch 3/10\n",
            "40000/40000 [==============================] - 8s 207us/step - loss: 0.6969 - acc: 0.8346\n",
            "Epoch 4/10\n",
            "40000/40000 [==============================] - 8s 207us/step - loss: 0.6204 - acc: 0.8343\n",
            "Epoch 5/10\n",
            "40000/40000 [==============================] - 8s 208us/step - loss: 0.5695 - acc: 0.8417\n",
            "Epoch 6/10\n",
            "40000/40000 [==============================] - 8s 206us/step - loss: 0.5520 - acc: 0.8429\n",
            "Epoch 7/10\n",
            "40000/40000 [==============================] - 8s 204us/step - loss: 0.5371 - acc: 0.8425\n",
            "Epoch 8/10\n",
            "40000/40000 [==============================] - 8s 204us/step - loss: 0.5260 - acc: 0.8446\n",
            "Epoch 9/10\n",
            "40000/40000 [==============================] - 8s 205us/step - loss: 0.5211 - acc: 0.8472\n",
            "Epoch 10/10\n",
            "40000/40000 [==============================] - 9s 218us/step - loss: 0.5192 - acc: 0.8456\n",
            "20000/20000 [==============================] - 2s 79us/step\n",
            "[512, 512, 512] elu adam ('l2', 0.001) 0.2\n",
            "_________________________________________________________________\n",
            "Layer (type)                 Output Shape              Param #   \n",
            "=================================================================\n",
            "dense_34 (Dense)             (None, 512)               401920    \n",
            "_________________________________________________________________\n",
            "dropout_24 (Dropout)         (None, 512)               0         \n",
            "_________________________________________________________________\n",
            "dense_35 (Dense)             (None, 512)               262656    \n",
            "_________________________________________________________________\n",
            "dropout_25 (Dropout)         (None, 512)               0         \n",
            "_________________________________________________________________\n",
            "dense_36 (Dense)             (None, 512)               262656    \n",
            "_________________________________________________________________\n",
            "dropout_26 (Dropout)         (None, 512)               0         \n",
            "_________________________________________________________________\n",
            "dense_37 (Dense)             (None, 10)                5130      \n",
            "=================================================================\n",
            "Total params: 932,362\n",
            "Trainable params: 932,362\n",
            "Non-trainable params: 0\n",
            "_________________________________________________________________\n",
            "Epoch 1/10\n",
            "40000/40000 [==============================] - 13s 315us/step - loss: 1.7809 - acc: 0.7853\n",
            "Epoch 2/10\n",
            "40000/40000 [==============================] - 11s 276us/step - loss: 1.0733 - acc: 0.8234\n",
            "Epoch 3/10\n",
            "40000/40000 [==============================] - 11s 277us/step - loss: 0.7817 - acc: 0.8316\n",
            "Epoch 4/10\n",
            "40000/40000 [==============================] - 11s 281us/step - loss: 0.6598 - acc: 0.8356\n",
            "Epoch 5/10\n",
            "40000/40000 [==============================] - 11s 287us/step - loss: 0.5983 - acc: 0.8402\n",
            "Epoch 6/10\n",
            "40000/40000 [==============================] - 11s 283us/step - loss: 0.5722 - acc: 0.8415\n",
            "Epoch 7/10\n",
            "40000/40000 [==============================] - 11s 284us/step - loss: 0.5653 - acc: 0.8393\n",
            "Epoch 8/10\n",
            "40000/40000 [==============================] - 11s 287us/step - loss: 0.5544 - acc: 0.8426\n",
            "Epoch 9/10\n",
            "40000/40000 [==============================] - 11s 286us/step - loss: 0.5516 - acc: 0.8420\n",
            "Epoch 10/10\n",
            "40000/40000 [==============================] - 11s 285us/step - loss: 0.5441 - acc: 0.8421\n",
            "20000/20000 [==============================] - 2s 103us/step\n",
            "[512, 512, 512] elu adam ('l2', 0.001) 0.2\n",
            "_________________________________________________________________\n",
            "Layer (type)                 Output Shape              Param #   \n",
            "=================================================================\n",
            "dense_38 (Dense)             (None, 512)               401920    \n",
            "_________________________________________________________________\n",
            "dropout_27 (Dropout)         (None, 512)               0         \n",
            "_________________________________________________________________\n",
            "dense_39 (Dense)             (None, 512)               262656    \n",
            "_________________________________________________________________\n",
            "dropout_28 (Dropout)         (None, 512)               0         \n",
            "_________________________________________________________________\n",
            "dense_40 (Dense)             (None, 512)               262656    \n",
            "_________________________________________________________________\n",
            "dropout_29 (Dropout)         (None, 512)               0         \n",
            "_________________________________________________________________\n",
            "dense_41 (Dense)             (None, 10)                5130      \n",
            "=================================================================\n",
            "Total params: 932,362\n",
            "Trainable params: 932,362\n",
            "Non-trainable params: 0\n",
            "_________________________________________________________________\n",
            "Epoch 1/10\n",
            "40000/40000 [==============================] - 13s 329us/step - loss: 1.7993 - acc: 0.7837\n",
            "Epoch 2/10\n",
            "40000/40000 [==============================] - 12s 289us/step - loss: 1.0854 - acc: 0.8233\n",
            "Epoch 3/10\n",
            "40000/40000 [==============================] - 12s 288us/step - loss: 0.7910 - acc: 0.8302\n",
            "Epoch 4/10\n",
            "40000/40000 [==============================] - 11s 287us/step - loss: 0.6561 - acc: 0.8356\n",
            "Epoch 5/10\n",
            "40000/40000 [==============================] - 11s 282us/step - loss: 0.6072 - acc: 0.8357\n",
            "Epoch 6/10\n",
            "40000/40000 [==============================] - 11s 283us/step - loss: 0.5845 - acc: 0.8355\n",
            "Epoch 7/10\n",
            "40000/40000 [==============================] - 11s 284us/step - loss: 0.5616 - acc: 0.8393\n",
            "Epoch 8/10\n",
            "40000/40000 [==============================] - 11s 282us/step - loss: 0.5660 - acc: 0.8361\n",
            "Epoch 9/10\n",
            "40000/40000 [==============================] - 11s 280us/step - loss: 0.5523 - acc: 0.8403\n",
            "Epoch 10/10\n",
            "40000/40000 [==============================] - 11s 287us/step - loss: 0.5426 - acc: 0.8429\n",
            "20000/20000 [==============================] - 2s 106us/step\n",
            "[512, 512, 512] elu adam ('l2', 0.001) 0.2\n",
            "_________________________________________________________________\n",
            "Layer (type)                 Output Shape              Param #   \n",
            "=================================================================\n",
            "dense_42 (Dense)             (None, 512)               401920    \n",
            "_________________________________________________________________\n",
            "dropout_30 (Dropout)         (None, 512)               0         \n",
            "_________________________________________________________________\n",
            "dense_43 (Dense)             (None, 512)               262656    \n",
            "_________________________________________________________________\n",
            "dropout_31 (Dropout)         (None, 512)               0         \n",
            "_________________________________________________________________\n",
            "dense_44 (Dense)             (None, 512)               262656    \n",
            "_________________________________________________________________\n",
            "dropout_32 (Dropout)         (None, 512)               0         \n",
            "_________________________________________________________________\n",
            "dense_45 (Dense)             (None, 10)                5130      \n",
            "=================================================================\n",
            "Total params: 932,362\n",
            "Trainable params: 932,362\n",
            "Non-trainable params: 0\n",
            "_________________________________________________________________\n",
            "Epoch 1/10\n",
            "40000/40000 [==============================] - 13s 335us/step - loss: 1.7755 - acc: 0.7880\n",
            "Epoch 2/10\n",
            "40000/40000 [==============================] - 12s 294us/step - loss: 1.0746 - acc: 0.8251\n",
            "Epoch 3/10\n",
            "40000/40000 [==============================] - 11s 284us/step - loss: 0.7890 - acc: 0.8303\n",
            "Epoch 4/10\n",
            "40000/40000 [==============================] - 11s 286us/step - loss: 0.6521 - acc: 0.8376\n",
            "Epoch 5/10\n",
            "40000/40000 [==============================] - 12s 290us/step - loss: 0.6084 - acc: 0.8317\n",
            "Epoch 6/10\n",
            "40000/40000 [==============================] - 12s 295us/step - loss: 0.5703 - acc: 0.8403\n",
            "Epoch 7/10\n",
            "40000/40000 [==============================] - 11s 283us/step - loss: 0.5567 - acc: 0.8413\n",
            "Epoch 8/10\n",
            "40000/40000 [==============================] - 11s 280us/step - loss: 0.5570 - acc: 0.8415\n",
            "Epoch 9/10\n",
            "40000/40000 [==============================] - 11s 281us/step - loss: 0.5470 - acc: 0.8419\n",
            "Epoch 10/10\n",
            "40000/40000 [==============================] - 11s 282us/step - loss: 0.5444 - acc: 0.8412\n",
            "20000/20000 [==============================] - 2s 104us/step\n",
            "[512, 512, 512] relu adam ('l2', 0.001) 0.2\n",
            "_________________________________________________________________\n",
            "Layer (type)                 Output Shape              Param #   \n",
            "=================================================================\n",
            "dense_46 (Dense)             (None, 512)               401920    \n",
            "_________________________________________________________________\n",
            "dropout_33 (Dropout)         (None, 512)               0         \n",
            "_________________________________________________________________\n",
            "dense_47 (Dense)             (None, 512)               262656    \n",
            "_________________________________________________________________\n",
            "dropout_34 (Dropout)         (None, 512)               0         \n",
            "_________________________________________________________________\n",
            "dense_48 (Dense)             (None, 512)               262656    \n",
            "_________________________________________________________________\n",
            "dropout_35 (Dropout)         (None, 512)               0         \n",
            "_________________________________________________________________\n",
            "dense_49 (Dense)             (None, 10)                5130      \n",
            "=================================================================\n",
            "Total params: 932,362\n",
            "Trainable params: 932,362\n",
            "Non-trainable params: 0\n",
            "_________________________________________________________________\n",
            "Epoch 1/10\n",
            "60000/60000 [==============================] - 20s 338us/step - loss: 1.2604 - acc: 0.8019\n",
            "Epoch 2/10\n",
            "60000/60000 [==============================] - 18s 307us/step - loss: 0.6994 - acc: 0.8441\n",
            "Epoch 3/10\n",
            "60000/60000 [==============================] - 18s 308us/step - loss: 0.5833 - acc: 0.8512\n",
            "Epoch 4/10\n",
            "60000/60000 [==============================] - 19s 311us/step - loss: 0.5451 - acc: 0.8550\n",
            "Epoch 5/10\n",
            "60000/60000 [==============================] - 19s 310us/step - loss: 0.5249 - acc: 0.8567\n",
            "Epoch 6/10\n",
            "60000/60000 [==============================] - 18s 308us/step - loss: 0.5161 - acc: 0.8587\n",
            "Epoch 7/10\n",
            "60000/60000 [==============================] - 19s 311us/step - loss: 0.5020 - acc: 0.8630\n",
            "Epoch 8/10\n",
            "60000/60000 [==============================] - 18s 307us/step - loss: 0.4987 - acc: 0.8615\n",
            "Epoch 9/10\n",
            "60000/60000 [==============================] - 18s 306us/step - loss: 0.4914 - acc: 0.8645\n",
            "Epoch 10/10\n",
            "60000/60000 [==============================] - 18s 304us/step - loss: 0.4915 - acc: 0.8648\n"
          ],
          "name": "stdout"
        }
      ]
    },
    {
      "cell_type": "code",
      "metadata": {
        "id": "yEtl6dN1AuJP",
        "colab_type": "code",
        "colab": {
          "base_uri": "https://localhost:8080/",
          "height": 34
        },
        "outputId": "06b3ada1-01fa-4870-b610-090b39576c1a"
      },
      "source": [
        "final_model = grid_search.best_estimator_\n",
        "final_parameters = grid_search.best_params_\n",
        "print(final_parameters)"
      ],
      "execution_count": 14,
      "outputs": [
        {
          "output_type": "stream",
          "text": [
            "{'activation': 'relu', 'dropout': 0.2, 'layers': [512, 512, 512], 'optimizer': 'adam', 'regularization': ('l2', 0.001)}\n"
          ],
          "name": "stdout"
        }
      ]
    },
    {
      "cell_type": "code",
      "metadata": {
        "id": "k5ylz2IgGf5L",
        "colab_type": "code",
        "colab": {}
      },
      "source": [
        "y_predicted_mlp = final_model.predict(x_test_mlp)"
      ],
      "execution_count": 0,
      "outputs": []
    },
    {
      "cell_type": "code",
      "metadata": {
        "id": "qQJ-IuAnGrDx",
        "colab_type": "code",
        "colab": {
          "base_uri": "https://localhost:8080/",
          "height": 34
        },
        "outputId": "d5ce2fee-6301-4e00-e054-afcac820b7c9"
      },
      "source": [
        "y_predicted_mlp[:10]"
      ],
      "execution_count": 46,
      "outputs": [
        {
          "output_type": "execute_result",
          "data": {
            "text/plain": [
              "array([9, 2, 1, 1, 6, 1, 4, 6, 5, 7])"
            ]
          },
          "metadata": {
            "tags": []
          },
          "execution_count": 46
        }
      ]
    },
    {
      "cell_type": "code",
      "metadata": {
        "id": "NGyQfnMjKSJk",
        "colab_type": "code",
        "colab": {}
      },
      "source": [
        "# Save Model\n",
        "final_model.model.save('MLP_best_model.h5')"
      ],
      "execution_count": 0,
      "outputs": []
    },
    {
      "cell_type": "code",
      "metadata": {
        "id": "kdCnA3ywHLuT",
        "colab_type": "code",
        "colab": {
          "base_uri": "https://localhost:8080/",
          "height": 34
        },
        "outputId": "ee8b7a13-ed31-448c-f4c7-1b484e04c885"
      },
      "source": [
        "mlp_accuracy_score = accuracy_score(y_predicted_mlp, y_test_mlp)* 100\n",
        "print(mlp_accuracy_score)"
      ],
      "execution_count": 30,
      "outputs": [
        {
          "output_type": "stream",
          "text": [
            "86.72999999999999\n"
          ],
          "name": "stdout"
        }
      ]
    },
    {
      "cell_type": "markdown",
      "metadata": {
        "id": "9HPgwFBcAZYn",
        "colab_type": "text"
      },
      "source": [
        "# RandomForest"
      ]
    },
    {
      "cell_type": "code",
      "metadata": {
        "id": "X1xn4hi0AZYo",
        "colab_type": "code",
        "colab": {}
      },
      "source": [
        "rf = RandomForestClassifier(n_estimators=64, n_jobs=-1)\n",
        "fit_result = rf.fit(x_train_mlp, y_train_mlp)\n"
      ],
      "execution_count": 0,
      "outputs": []
    },
    {
      "cell_type": "code",
      "metadata": {
        "id": "JeFRgl08AZYr",
        "colab_type": "code",
        "colab": {}
      },
      "source": [
        "y_pred_mlp = rf.predict(x_test_mlp)\n"
      ],
      "execution_count": 0,
      "outputs": []
    },
    {
      "cell_type": "code",
      "metadata": {
        "id": "q1AwNSMDI-Zo",
        "colab_type": "code",
        "colab": {
          "base_uri": "https://localhost:8080/",
          "height": 34
        },
        "outputId": "e484d119-a9cd-4eee-8182-16a74766ecd1"
      },
      "source": [
        "y_pred_mlp[:10]"
      ],
      "execution_count": 82,
      "outputs": [
        {
          "output_type": "execute_result",
          "data": {
            "text/plain": [
              "array([9, 2, 1, 1, 6, 1, 4, 6, 5, 7], dtype=uint8)"
            ]
          },
          "metadata": {
            "tags": []
          },
          "execution_count": 82
        }
      ]
    },
    {
      "cell_type": "code",
      "metadata": {
        "id": "Lg0JngF1AZYt",
        "colab_type": "code",
        "colab": {
          "base_uri": "https://localhost:8080/",
          "height": 34
        },
        "outputId": "dab0c22e-1078-4f06-80c1-ac2418e435a5"
      },
      "source": [
        "# Print result\n",
        "rf_accuracy_score = accuracy_score(y_test_mlp, y_pred_mlp) * 100\n",
        "print(rf_accuracy_score)"
      ],
      "execution_count": 85,
      "outputs": [
        {
          "output_type": "stream",
          "text": [
            "87.33999999999999\n"
          ],
          "name": "stdout"
        }
      ]
    },
    {
      "cell_type": "markdown",
      "metadata": {
        "id": "wmG_6LzgAZYw",
        "colab_type": "text"
      },
      "source": [
        "# Convulational Model"
      ]
    },
    {
      "cell_type": "code",
      "metadata": {
        "id": "WvE2Ys9_AZYw",
        "colab_type": "code",
        "colab": {
          "base_uri": "https://localhost:8080/",
          "height": 594
        },
        "outputId": "d771e662-bb96-4905-83e2-20a4d47b0720"
      },
      "source": [
        "# See first 25 data\n",
        "display_images(x_train)"
      ],
      "execution_count": 56,
      "outputs": [
        {
          "output_type": "display_data",
          "data": {
            "image/png": "[encoded data removed]",
            "text/plain": [
              "<Figure size 720x720 with 25 Axes>"
            ]
          },
          "metadata": {
            "tags": []
          }
        }
      ]
    },
    {
      "cell_type": "code",
      "metadata": {
        "id": "NPScDSCkAZY4",
        "colab_type": "code",
        "colab": {}
      },
      "source": [
        "class DataPreparation:\n",
        "    def __init__(self, x_data, y_data, normalized=True):\n",
        "        self.X = x_data.reshape(x_data.shape[0], 28,28,1)\n",
        "        # One hot encoded\n",
        "        self.Y = np_utils.to_categorical(y_data)\n",
        "        \n",
        "        if normalized:\n",
        "            self.__normalize_data__()\n",
        "\n",
        "\n",
        "    def __normalize_data__(self):\n",
        "        self.X = self.X/np.float(255)\n",
        "        \n",
        "    \n",
        "    def add_noise(self ,noise_factor= 0.5, mu=0, std=1):\n",
        "        self.noise_factor = noise_factor \n",
        "        noise = np.random.normal(mu, std, size=self.X.shape)\n",
        "        self.X = self.X + noise_factor * noise\n",
        "        self.X = np.clip(self.X, 0., 1.)\n",
        "     \n",
        "    def convert_y_to_non_hot_encoding(self):\n",
        "        self.Y_non_hot = [np.where(r == 1)[0][0] for r in self.Y]\n",
        "        return self.Y_non_hot\n",
        "       \n",
        "   \n"
      ],
      "execution_count": 0,
      "outputs": []
    },
    {
      "cell_type": "code",
      "metadata": {
        "id": "IjlkHURSAZY6",
        "colab_type": "code",
        "colab": {}
      },
      "source": [
        "train_data  = DataPreparation(x_train, y_train)\n",
        "test_data = DataPreparation(x_test, y_test)"
      ],
      "execution_count": 0,
      "outputs": []
    },
    {
      "cell_type": "code",
      "metadata": {
        "id": "a-X0pZmJAZY8",
        "colab_type": "code",
        "colab": {
          "base_uri": "https://localhost:8080/",
          "height": 119
        },
        "outputId": "224517df-1649-49c1-b8cf-b1ae4b6758fa"
      },
      "source": [
        "print(train_data.Y[:5])\n",
        "print(train_data.X.shape)"
      ],
      "execution_count": 11,
      "outputs": [
        {
          "output_type": "stream",
          "text": [
            "[[0. 0. 0. 0. 0. 0. 0. 0. 0. 1.]\n",
            " [1. 0. 0. 0. 0. 0. 0. 0. 0. 0.]\n",
            " [1. 0. 0. 0. 0. 0. 0. 0. 0. 0.]\n",
            " [0. 0. 0. 1. 0. 0. 0. 0. 0. 0.]\n",
            " [1. 0. 0. 0. 0. 0. 0. 0. 0. 0.]]\n",
            "(60000, 28, 28, 1)\n"
          ],
          "name": "stdout"
        }
      ]
    },
    {
      "cell_type": "code",
      "metadata": {
        "id": "AvZig4jeAZZD",
        "colab_type": "code",
        "colab": {}
      },
      "source": [
        "parameters = {\n",
        "    'layers' : [[('Conv2D' , 64 ), ('Conv2D' , 32)], [( 'Conv2D', 64) , ('Dense' , 32 )] ],\n",
        "    'activation' : ['relu'],\n",
        "    'optimizer' : ['adam']\n",
        "}"
      ],
      "execution_count": 0,
      "outputs": []
    },
    {
      "cell_type": "code",
      "metadata": {
        "id": "c2YRoCGVAZZJ",
        "colab_type": "code",
        "colab": {}
      },
      "source": [
        "class ConvolutionalModel:\n",
        "    def __init__(self ,x_train, y_train):\n",
        "        self.x_train = x_train\n",
        "        self.y_train = y_train\n",
        "        self.model = Sequential()\n",
        "    \n",
        "    def build_model(self, layers, activation, optimizer, dropout = 0.0 ):\n",
        "        print('Parameters : Layers: {}, Activation: {}, optimizer: {}, input_shape : {}'.format(layers,activation,optimizer, self.x_train[0].shape))\n",
        "        \n",
        "       \n",
        "        i = 0\n",
        "        first_dense = True\n",
        "        for layer in layers:\n",
        "            print(layer)\n",
        "            i+=1\n",
        "            # Adding Input to the First Layer\n",
        "            if i==1 :\n",
        "                self.model.add(Conv2D(layer[1], kernel_size=3, activation=activation, input_shape=self.x_train[0].shape))\n",
        "                self.model.add(MaxPool2D(pool_size=2))\n",
        "\n",
        "            \n",
        "            \n",
        "            if layer[0] == 'Conv2D':\n",
        "                self.model.add(Conv2D(layer[1], kernel_size=3, activation=activation))\n",
        "                self.model.add(MaxPool2D(pool_size=2))\n",
        "            else:\n",
        "                if first_dense:\n",
        "                    first_dense = False\n",
        "                    self.model.add(Flatten())\n",
        "\n",
        "                self.model.add(Dense(layer[1], activation=activation))\n",
        "            \n",
        "        # Adding Final Layer\n",
        "        if first_dense:\n",
        "            self.model.add(Flatten())\n",
        "\n",
        "        self.model.add(Dense(10, activation='softmax'))\n",
        "        self.model.summary()\n",
        "        self.model.compile(loss='categorical_crossentropy', optimizer=optimizer,  metrics=['accuracy'])\n",
        "        \n",
        "        return self.model\n",
        "        \n",
        "    "
      ],
      "execution_count": 0,
      "outputs": []
    },
    {
      "cell_type": "code",
      "metadata": {
        "id": "Byg274ky_VLD",
        "colab_type": "code",
        "colab": {
          "base_uri": "https://localhost:8080/",
          "height": 5491
        },
        "outputId": "28459e92-5e5d-47a4-f7f3-19c3a8e44e76"
      },
      "source": [
        "model = ConvolutionalModel(train_data.X, train_data.Y)\n",
        "grid_search_classifier = KerasClassifier(build_fn=model.build_model, epochs=10, batch_size=128)\n",
        "grid_search_cnn = GridSearchCV(estimator=grid_search_classifier, param_grid=parameters, cv=3 )\n",
        "grid_search_fit = grid_search_cnn.fit(train_data.X, train_data.Y)"
      ],
      "execution_count": 31,
      "outputs": [
        {
          "output_type": "stream",
          "text": [
            "/usr/local/lib/python3.6/dist-packages/keras/engine/saving.py:292: UserWarning: No training configuration found in save file: the model was *not* compiled. Compile it manually.\n",
            "  warnings.warn('No training configuration found in save file: '\n"
          ],
          "name": "stderr"
        },
        {
          "output_type": "stream",
          "text": [
            "Parameters : Layers: [('Conv2D', 64), ('Conv2D', 32)], Activation: relu, optimizer: adam, input_shape : (28, 28, 1)\n",
            "('Conv2D', 64)\n",
            "('Conv2D', 32)\n",
            "_________________________________________________________________\n",
            "Layer (type)                 Output Shape              Param #   \n",
            "=================================================================\n",
            "conv2d_23 (Conv2D)           (None, 26, 26, 64)        640       \n",
            "_________________________________________________________________\n",
            "max_pooling2d_22 (MaxPooling (None, 13, 13, 64)        0         \n",
            "_________________________________________________________________\n",
            "conv2d_24 (Conv2D)           (None, 11, 11, 64)        36928     \n",
            "_________________________________________________________________\n",
            "max_pooling2d_23 (MaxPooling (None, 5, 5, 64)          0         \n",
            "_________________________________________________________________\n",
            "conv2d_25 (Conv2D)           (None, 3, 3, 32)          18464     \n",
            "_________________________________________________________________\n",
            "max_pooling2d_24 (MaxPooling (None, 1, 1, 32)          0         \n",
            "_________________________________________________________________\n",
            "flatten_4 (Flatten)          (None, 32)                0         \n",
            "_________________________________________________________________\n",
            "dense_11 (Dense)             (None, 10)                330       \n",
            "=================================================================\n",
            "Total params: 56,362\n",
            "Trainable params: 56,362\n",
            "Non-trainable params: 0\n",
            "_________________________________________________________________\n",
            "Epoch 1/10\n",
            "40000/40000 [==============================] - 71s 2ms/step - loss: 0.8076 - acc: 0.7170\n",
            "Epoch 2/10\n",
            "40000/40000 [==============================] - 71s 2ms/step - loss: 0.5127 - acc: 0.8165\n",
            "Epoch 3/10\n",
            "40000/40000 [==============================] - 72s 2ms/step - loss: 0.4480 - acc: 0.8387\n",
            "Epoch 4/10\n",
            "40000/40000 [==============================] - 70s 2ms/step - loss: 0.4110 - acc: 0.8508\n",
            "Epoch 5/10\n",
            "40000/40000 [==============================] - 71s 2ms/step - loss: 0.3844 - acc: 0.8630\n",
            "Epoch 6/10\n",
            "40000/40000 [==============================] - 70s 2ms/step - loss: 0.3622 - acc: 0.8699\n",
            "Epoch 7/10\n",
            "40000/40000 [==============================] - 71s 2ms/step - loss: 0.3460 - acc: 0.8737\n",
            "Epoch 8/10\n",
            "40000/40000 [==============================] - 71s 2ms/step - loss: 0.3287 - acc: 0.8798\n",
            "Epoch 9/10\n",
            "40000/40000 [==============================] - 70s 2ms/step - loss: 0.3126 - acc: 0.8862\n",
            "Epoch 10/10\n",
            "40000/40000 [==============================] - 71s 2ms/step - loss: 0.2973 - acc: 0.8917\n",
            "20000/20000 [==============================] - 10s 500us/step\n",
            "Parameters : Layers: [('Conv2D', 64), ('Conv2D', 32)], Activation: relu, optimizer: adam, input_shape : (28, 28, 1)\n",
            "('Conv2D', 64)\n",
            "('Conv2D', 32)\n",
            "_________________________________________________________________\n",
            "Layer (type)                 Output Shape              Param #   \n",
            "=================================================================\n",
            "conv2d_26 (Conv2D)           (None, 26, 26, 64)        640       \n",
            "_________________________________________________________________\n",
            "max_pooling2d_25 (MaxPooling (None, 13, 13, 64)        0         \n",
            "_________________________________________________________________\n",
            "conv2d_27 (Conv2D)           (None, 11, 11, 64)        36928     \n",
            "_________________________________________________________________\n",
            "max_pooling2d_26 (MaxPooling (None, 5, 5, 64)          0         \n",
            "_________________________________________________________________\n",
            "conv2d_28 (Conv2D)           (None, 3, 3, 32)          18464     \n",
            "_________________________________________________________________\n",
            "max_pooling2d_27 (MaxPooling (None, 1, 1, 32)          0         \n",
            "_________________________________________________________________\n",
            "flatten_5 (Flatten)          (None, 32)                0         \n",
            "_________________________________________________________________\n",
            "dense_12 (Dense)             (None, 10)                330       \n",
            "=================================================================\n",
            "Total params: 56,362\n",
            "Trainable params: 56,362\n",
            "Non-trainable params: 0\n",
            "_________________________________________________________________\n",
            "Epoch 1/10\n",
            "40000/40000 [==============================] - 73s 2ms/step - loss: 0.8219 - acc: 0.7009\n",
            "Epoch 2/10\n",
            "40000/40000 [==============================] - 73s 2ms/step - loss: 0.5296 - acc: 0.8088\n",
            "Epoch 3/10\n",
            "40000/40000 [==============================] - 72s 2ms/step - loss: 0.4631 - acc: 0.8323\n",
            "Epoch 4/10\n",
            "40000/40000 [==============================] - 72s 2ms/step - loss: 0.4240 - acc: 0.8459\n",
            "Epoch 5/10\n",
            "40000/40000 [==============================] - 72s 2ms/step - loss: 0.4005 - acc: 0.8543\n",
            "Epoch 6/10\n",
            "40000/40000 [==============================] - 74s 2ms/step - loss: 0.3728 - acc: 0.8642\n",
            "Epoch 7/10\n",
            "40000/40000 [==============================] - 72s 2ms/step - loss: 0.3578 - acc: 0.8696\n",
            "Epoch 8/10\n",
            "40000/40000 [==============================] - 72s 2ms/step - loss: 0.3371 - acc: 0.8763\n",
            "Epoch 9/10\n",
            "40000/40000 [==============================] - 72s 2ms/step - loss: 0.3229 - acc: 0.8818\n",
            "Epoch 10/10\n",
            "40000/40000 [==============================] - 74s 2ms/step - loss: 0.3089 - acc: 0.8871\n",
            "20000/20000 [==============================] - 11s 540us/step\n",
            "Parameters : Layers: [('Conv2D', 64), ('Conv2D', 32)], Activation: relu, optimizer: adam, input_shape : (28, 28, 1)\n",
            "('Conv2D', 64)\n",
            "('Conv2D', 32)\n",
            "_________________________________________________________________\n",
            "Layer (type)                 Output Shape              Param #   \n",
            "=================================================================\n",
            "conv2d_29 (Conv2D)           (None, 26, 26, 64)        640       \n",
            "_________________________________________________________________\n",
            "max_pooling2d_28 (MaxPooling (None, 13, 13, 64)        0         \n",
            "_________________________________________________________________\n",
            "conv2d_30 (Conv2D)           (None, 11, 11, 64)        36928     \n",
            "_________________________________________________________________\n",
            "max_pooling2d_29 (MaxPooling (None, 5, 5, 64)          0         \n",
            "_________________________________________________________________\n",
            "conv2d_31 (Conv2D)           (None, 3, 3, 32)          18464     \n",
            "_________________________________________________________________\n",
            "max_pooling2d_30 (MaxPooling (None, 1, 1, 32)          0         \n",
            "_________________________________________________________________\n",
            "flatten_6 (Flatten)          (None, 32)                0         \n",
            "_________________________________________________________________\n",
            "dense_13 (Dense)             (None, 10)                330       \n",
            "=================================================================\n",
            "Total params: 56,362\n",
            "Trainable params: 56,362\n",
            "Non-trainable params: 0\n",
            "_________________________________________________________________\n",
            "Epoch 1/10\n",
            "40000/40000 [==============================] - 71s 2ms/step - loss: 0.8075 - acc: 0.7161\n",
            "Epoch 2/10\n",
            "40000/40000 [==============================] - 70s 2ms/step - loss: 0.5140 - acc: 0.8146\n",
            "Epoch 3/10\n",
            "40000/40000 [==============================] - 70s 2ms/step - loss: 0.4529 - acc: 0.8370\n",
            "Epoch 4/10\n",
            "40000/40000 [==============================] - 70s 2ms/step - loss: 0.4136 - acc: 0.8522\n",
            "Epoch 5/10\n",
            "40000/40000 [==============================] - 71s 2ms/step - loss: 0.3854 - acc: 0.8610\n",
            "Epoch 6/10\n",
            "40000/40000 [==============================] - 71s 2ms/step - loss: 0.3653 - acc: 0.8686\n",
            "Epoch 7/10\n",
            "40000/40000 [==============================] - 70s 2ms/step - loss: 0.3488 - acc: 0.8753\n",
            "Epoch 8/10\n",
            "40000/40000 [==============================] - 70s 2ms/step - loss: 0.3340 - acc: 0.8802\n",
            "Epoch 9/10\n",
            "40000/40000 [==============================] - 71s 2ms/step - loss: 0.3236 - acc: 0.8824\n",
            "Epoch 10/10\n",
            "40000/40000 [==============================] - 70s 2ms/step - loss: 0.3100 - acc: 0.8866\n",
            "20000/20000 [==============================] - 11s 557us/step\n",
            "Parameters : Layers: [('Conv2D', 64), ('Dense', 32)], Activation: relu, optimizer: adam, input_shape : (28, 28, 1)\n",
            "('Conv2D', 64)\n",
            "('Dense', 32)\n",
            "_________________________________________________________________\n",
            "Layer (type)                 Output Shape              Param #   \n",
            "=================================================================\n",
            "conv2d_32 (Conv2D)           (None, 26, 26, 64)        640       \n",
            "_________________________________________________________________\n",
            "max_pooling2d_31 (MaxPooling (None, 13, 13, 64)        0         \n",
            "_________________________________________________________________\n",
            "conv2d_33 (Conv2D)           (None, 11, 11, 64)        36928     \n",
            "_________________________________________________________________\n",
            "max_pooling2d_32 (MaxPooling (None, 5, 5, 64)          0         \n",
            "_________________________________________________________________\n",
            "flatten_7 (Flatten)          (None, 1600)              0         \n",
            "_________________________________________________________________\n",
            "dense_14 (Dense)             (None, 32)                51232     \n",
            "_________________________________________________________________\n",
            "dense_15 (Dense)             (None, 10)                330       \n",
            "=================================================================\n",
            "Total params: 89,130\n",
            "Trainable params: 89,130\n",
            "Non-trainable params: 0\n",
            "_________________________________________________________________\n",
            "Epoch 1/10\n",
            "40000/40000 [==============================] - 67s 2ms/step - loss: 0.6873 - acc: 0.7514\n",
            "Epoch 2/10\n",
            "40000/40000 [==============================] - 66s 2ms/step - loss: 0.4216 - acc: 0.8501\n",
            "Epoch 3/10\n",
            "40000/40000 [==============================] - 66s 2ms/step - loss: 0.3597 - acc: 0.8722\n",
            "Epoch 4/10\n",
            "40000/40000 [==============================] - 67s 2ms/step - loss: 0.3334 - acc: 0.8795\n",
            "Epoch 5/10\n",
            "40000/40000 [==============================] - 66s 2ms/step - loss: 0.3075 - acc: 0.8900\n",
            "Epoch 6/10\n",
            "40000/40000 [==============================] - 67s 2ms/step - loss: 0.2889 - acc: 0.8959\n",
            "Epoch 7/10\n",
            "40000/40000 [==============================] - 67s 2ms/step - loss: 0.2738 - acc: 0.9021\n",
            "Epoch 8/10\n",
            "40000/40000 [==============================] - 67s 2ms/step - loss: 0.2603 - acc: 0.9079\n",
            "Epoch 9/10\n",
            "40000/40000 [==============================] - 66s 2ms/step - loss: 0.2468 - acc: 0.9104\n",
            "Epoch 10/10\n",
            "40000/40000 [==============================] - 66s 2ms/step - loss: 0.2303 - acc: 0.9168\n",
            "20000/20000 [==============================] - 12s 593us/step\n",
            "Parameters : Layers: [('Conv2D', 64), ('Dense', 32)], Activation: relu, optimizer: adam, input_shape : (28, 28, 1)\n",
            "('Conv2D', 64)\n",
            "('Dense', 32)\n",
            "_________________________________________________________________\n",
            "Layer (type)                 Output Shape              Param #   \n",
            "=================================================================\n",
            "conv2d_34 (Conv2D)           (None, 26, 26, 64)        640       \n",
            "_________________________________________________________________\n",
            "max_pooling2d_33 (MaxPooling (None, 13, 13, 64)        0         \n",
            "_________________________________________________________________\n",
            "conv2d_35 (Conv2D)           (None, 11, 11, 64)        36928     \n",
            "_________________________________________________________________\n",
            "max_pooling2d_34 (MaxPooling (None, 5, 5, 64)          0         \n",
            "_________________________________________________________________\n",
            "flatten_8 (Flatten)          (None, 1600)              0         \n",
            "_________________________________________________________________\n",
            "dense_16 (Dense)             (None, 32)                51232     \n",
            "_________________________________________________________________\n",
            "dense_17 (Dense)             (None, 10)                330       \n",
            "=================================================================\n",
            "Total params: 89,130\n",
            "Trainable params: 89,130\n",
            "Non-trainable params: 0\n",
            "_________________________________________________________________\n",
            "Epoch 1/10\n",
            "40000/40000 [==============================] - 66s 2ms/step - loss: 0.6626 - acc: 0.7574\n",
            "Epoch 2/10\n",
            "40000/40000 [==============================] - 66s 2ms/step - loss: 0.4136 - acc: 0.8484\n",
            "Epoch 3/10\n",
            "40000/40000 [==============================] - 67s 2ms/step - loss: 0.3570 - acc: 0.8719\n",
            "Epoch 4/10\n",
            "40000/40000 [==============================] - 66s 2ms/step - loss: 0.3256 - acc: 0.8832\n",
            "Epoch 5/10\n",
            "40000/40000 [==============================] - 66s 2ms/step - loss: 0.3009 - acc: 0.8893\n",
            "Epoch 6/10\n",
            "40000/40000 [==============================] - 65s 2ms/step - loss: 0.2779 - acc: 0.8984\n",
            "Epoch 7/10\n",
            "40000/40000 [==============================] - 66s 2ms/step - loss: 0.2611 - acc: 0.9030\n",
            "Epoch 8/10\n",
            "40000/40000 [==============================] - 67s 2ms/step - loss: 0.2434 - acc: 0.9113\n",
            "Epoch 9/10\n",
            "40000/40000 [==============================] - 66s 2ms/step - loss: 0.2361 - acc: 0.9137\n",
            "Epoch 10/10\n",
            "40000/40000 [==============================] - 65s 2ms/step - loss: 0.2188 - acc: 0.9192\n",
            "20000/20000 [==============================] - 12s 593us/step\n",
            "Parameters : Layers: [('Conv2D', 64), ('Dense', 32)], Activation: relu, optimizer: adam, input_shape : (28, 28, 1)\n",
            "('Conv2D', 64)\n",
            "('Dense', 32)\n",
            "_________________________________________________________________\n",
            "Layer (type)                 Output Shape              Param #   \n",
            "=================================================================\n",
            "conv2d_36 (Conv2D)           (None, 26, 26, 64)        640       \n",
            "_________________________________________________________________\n",
            "max_pooling2d_35 (MaxPooling (None, 13, 13, 64)        0         \n",
            "_________________________________________________________________\n",
            "conv2d_37 (Conv2D)           (None, 11, 11, 64)        36928     \n",
            "_________________________________________________________________\n",
            "max_pooling2d_36 (MaxPooling (None, 5, 5, 64)          0         \n",
            "_________________________________________________________________\n",
            "flatten_9 (Flatten)          (None, 1600)              0         \n",
            "_________________________________________________________________\n",
            "dense_18 (Dense)             (None, 32)                51232     \n",
            "_________________________________________________________________\n",
            "dense_19 (Dense)             (None, 10)                330       \n",
            "=================================================================\n",
            "Total params: 89,130\n",
            "Trainable params: 89,130\n",
            "Non-trainable params: 0\n",
            "_________________________________________________________________\n",
            "Epoch 1/10\n",
            "40000/40000 [==============================] - 68s 2ms/step - loss: 0.6524 - acc: 0.7668\n",
            "Epoch 2/10\n",
            "40000/40000 [==============================] - 67s 2ms/step - loss: 0.3978 - acc: 0.8588\n",
            "Epoch 3/10\n",
            "40000/40000 [==============================] - 66s 2ms/step - loss: 0.3451 - acc: 0.8768\n",
            "Epoch 4/10\n",
            "40000/40000 [==============================] - 66s 2ms/step - loss: 0.3156 - acc: 0.8860\n",
            "Epoch 5/10\n",
            "40000/40000 [==============================] - 66s 2ms/step - loss: 0.2959 - acc: 0.8937\n",
            "Epoch 6/10\n",
            "40000/40000 [==============================] - 66s 2ms/step - loss: 0.2753 - acc: 0.9009\n",
            "Epoch 7/10\n",
            "40000/40000 [==============================] - 67s 2ms/step - loss: 0.2609 - acc: 0.9071\n",
            "Epoch 8/10\n",
            "40000/40000 [==============================] - 66s 2ms/step - loss: 0.2485 - acc: 0.9095\n",
            "Epoch 9/10\n",
            "40000/40000 [==============================] - 70s 2ms/step - loss: 0.2359 - acc: 0.9141\n",
            "Epoch 10/10\n",
            "40000/40000 [==============================] - 68s 2ms/step - loss: 0.2184 - acc: 0.9212\n",
            "20000/20000 [==============================] - 13s 657us/step\n",
            "Parameters : Layers: [('Conv2D', 64), ('Dense', 32)], Activation: relu, optimizer: adam, input_shape : (28, 28, 1)\n",
            "('Conv2D', 64)\n",
            "('Dense', 32)\n",
            "_________________________________________________________________\n",
            "Layer (type)                 Output Shape              Param #   \n",
            "=================================================================\n",
            "conv2d_38 (Conv2D)           (None, 26, 26, 64)        640       \n",
            "_________________________________________________________________\n",
            "max_pooling2d_37 (MaxPooling (None, 13, 13, 64)        0         \n",
            "_________________________________________________________________\n",
            "conv2d_39 (Conv2D)           (None, 11, 11, 64)        36928     \n",
            "_________________________________________________________________\n",
            "max_pooling2d_38 (MaxPooling (None, 5, 5, 64)          0         \n",
            "_________________________________________________________________\n",
            "flatten_10 (Flatten)         (None, 1600)              0         \n",
            "_________________________________________________________________\n",
            "dense_20 (Dense)             (None, 32)                51232     \n",
            "_________________________________________________________________\n",
            "dense_21 (Dense)             (None, 10)                330       \n",
            "=================================================================\n",
            "Total params: 89,130\n",
            "Trainable params: 89,130\n",
            "Non-trainable params: 0\n",
            "_________________________________________________________________\n",
            "Epoch 1/10\n",
            "60000/60000 [==============================] - 107s 2ms/step - loss: 0.6026 - acc: 0.7862\n",
            "Epoch 2/10\n",
            "60000/60000 [==============================] - 105s 2ms/step - loss: 0.3738 - acc: 0.8670\n",
            "Epoch 3/10\n",
            "60000/60000 [==============================] - 106s 2ms/step - loss: 0.3296 - acc: 0.8814\n",
            "Epoch 4/10\n",
            "60000/60000 [==============================] - 108s 2ms/step - loss: 0.3005 - acc: 0.8911\n",
            "Epoch 5/10\n",
            "60000/60000 [==============================] - 109s 2ms/step - loss: 0.2774 - acc: 0.8997\n",
            "Epoch 6/10\n",
            "60000/60000 [==============================] - 109s 2ms/step - loss: 0.2597 - acc: 0.9044\n",
            "Epoch 7/10\n",
            "60000/60000 [==============================] - 104s 2ms/step - loss: 0.2414 - acc: 0.9126\n",
            "Epoch 8/10\n",
            "60000/60000 [==============================] - 102s 2ms/step - loss: 0.2297 - acc: 0.9175\n",
            "Epoch 9/10\n",
            "60000/60000 [==============================] - 103s 2ms/step - loss: 0.2164 - acc: 0.9212\n",
            "Epoch 10/10\n",
            "60000/60000 [==============================] - 105s 2ms/step - loss: 0.2030 - acc: 0.9249\n"
          ],
          "name": "stdout"
        }
      ]
    },
    {
      "cell_type": "code",
      "metadata": {
        "id": "5kLSRUgIu4qW",
        "colab_type": "code",
        "colab": {
          "base_uri": "https://localhost:8080/",
          "height": 34
        },
        "outputId": "893fc1da-6e9f-4ad5-a8a7-16ffad65845f"
      },
      "source": [
        "final_model_cnn = grid_search_cnn.best_estimator_\n",
        "final_parameters_cnn = grid_search_cnn.best_params_\n",
        "print(final_parameters_cnn)"
      ],
      "execution_count": 33,
      "outputs": [
        {
          "output_type": "stream",
          "text": [
            "{'activation': 'relu', 'layers': [('Conv2D', 64), ('Dense', 32)], 'optimizer': 'adam'}\n"
          ],
          "name": "stdout"
        }
      ]
    },
    {
      "cell_type": "code",
      "metadata": {
        "id": "hPf48mU4NHam",
        "colab_type": "code",
        "colab": {}
      },
      "source": [
        "y_predicted_cnn = final_model_cnn.predict(test_data.X)"
      ],
      "execution_count": 0,
      "outputs": []
    },
    {
      "cell_type": "code",
      "metadata": {
        "id": "jPG75PhbNS8a",
        "colab_type": "code",
        "colab": {
          "base_uri": "https://localhost:8080/",
          "height": 34
        },
        "outputId": "54af6ebe-568f-4e9e-95aa-830716562d3c"
      },
      "source": [
        "cnn_accuracy = accuracy_score(y_predicted_cnn, y_test)\n",
        "print(cnn_accuracy)"
      ],
      "execution_count": 39,
      "outputs": [
        {
          "output_type": "stream",
          "text": [
            "0.9004\n"
          ],
          "name": "stdout"
        }
      ]
    },
    {
      "cell_type": "markdown",
      "metadata": {
        "id": "AR2YG5Q6RHht",
        "colab_type": "text"
      },
      "source": [
        "## Adding Noise Into the Data to train a decoder "
      ]
    },
    {
      "cell_type": "code",
      "metadata": {
        "id": "b0dBmBmVNZpQ",
        "colab_type": "code",
        "colab": {}
      },
      "source": [
        "# How to Add noise Check\n",
        "train_noisy = DataPreparation(x_train, y_train)\n",
        "train_noisy.add_noise(0.2)\n",
        "test_noisy = DataPreparation(x_test, y_test)\n",
        "test_noisy.add_noise(0.2)"
      ],
      "execution_count": 0,
      "outputs": []
    },
    {
      "cell_type": "code",
      "metadata": {
        "id": "t-yJtC3__UW3",
        "colab_type": "code",
        "colab": {
          "base_uri": "https://localhost:8080/",
          "height": 591
        },
        "outputId": "bb2f4e4d-47b8-4026-b24e-fcc81260f982"
      },
      "source": [
        "display_images(train_noisy.X)"
      ],
      "execution_count": 13,
      "outputs": [
        {
          "output_type": "display_data",
          "data": {
            "image/png": "[encoded data removed]",
            "text/plain": [
              "<Figure size 720x720 with 25 Axes>"
            ]
          },
          "metadata": {
            "tags": []
          }
        }
      ]
    },
    {
      "cell_type": "code",
      "metadata": {
        "id": "u0lUkF5PErqu",
        "colab_type": "code",
        "colab": {}
      },
      "source": [
        "parameters = {\n",
        "                'loss' : ['adadelta'],\n",
        "                'activation' : ['relu']\n",
        "\n",
        "}"
      ],
      "execution_count": 0,
      "outputs": []
    },
    {
      "cell_type": "code",
      "metadata": {
        "id": "TvxqurmFAY7i",
        "colab_type": "code",
        "colab": {}
      },
      "source": [
        "class Decoder:\n",
        "    def __init__(self, x_data, y_data, x_test, y_test, epochs=20):\n",
        "        self.X = x_data\n",
        "        self.Y = y_data\n",
        "        self.X_test = x_test\n",
        "        self.Y_test = y_test\n",
        "        self.epochs = epochs\n",
        "    \n",
        "\n",
        "    \n",
        "    def fit(self, activation='relu', optimizer='adadelta'):\n",
        "        input_img = Input(shape =self.X[0].shape)\n",
        "        encoded = Dense(128, activation=activation)(input_img)\n",
        "        encoded = Dense(64, activation=activation)(encoded)\n",
        "        encoded = Dense(32, activation=activation)(encoded)\n",
        "\n",
        "        decoded = Dense(64, activation=activation)(encoded)\n",
        "        decoded = Dense(128, activation=activation)(decoded)\n",
        "        decoded = Dense(784, activation='sigmoid')(decoded)\n",
        "\n",
        "        self.autoencoder = Model(input_img, decoded)\n",
        "        self.autoencoder.compile(optimizer=optimizer, loss='binary_crossentropy')\n",
        "        \n",
        "        \n",
        "        \n",
        "        history = self.autoencoder.fit(self.X,self.X, epochs = self.epochs, batch_size=256, verbose=2,\n",
        "                shuffle=True,\n",
        "                validation_data=(self.X_test, self.Y_test))\n",
        "        \n",
        "        \n",
        "        return history\n",
        "    \n",
        "    def predict(self, x_train):\n",
        "        denoised_image = self.autoencoder.predict(x_train)\n",
        "        \n",
        "        return denoised_image"
      ],
      "execution_count": 0,
      "outputs": []
    },
    {
      "cell_type": "code",
      "metadata": {
        "id": "qeMZefxxGGWH",
        "colab_type": "code",
        "colab": {}
      },
      "source": [
        ""
      ],
      "execution_count": 0,
      "outputs": []
    },
    {
      "cell_type": "code",
      "metadata": {
        "id": "5Ozlq3tg9wWO",
        "colab_type": "code",
        "colab": {}
      },
      "source": [
        "decoder_accuracy = [] \n",
        "denoised_images = []"
      ],
      "execution_count": 0,
      "outputs": []
    },
    {
      "cell_type": "code",
      "metadata": {
        "id": "9lZdtvh1HYRn",
        "colab_type": "code",
        "colab": {
          "base_uri": "https://localhost:8080/",
          "height": 409
        },
        "outputId": "ddb8a18f-b72a-43fc-d4a0-f17d35571b41"
      },
      "source": [
        "skf = StratifiedKFold(n_splits=4, random_state=None)\n",
        "# K Fold Split the original Data\n",
        "split = skf.split(x_train, y_train)\n",
        "\n",
        "\n",
        "for train_index, test_index in split:\n",
        "    x_train_fold = x_train[train_index]\n",
        "    y_train_fold = y_train[train_index]\n",
        "    x_test_fold = x_train[test_index]\n",
        "    y_test_fold = y_train[test_index]\n",
        "    train_data = DataPreparation(x_train_fold, y_train_fold)\n",
        "    train_data.add_noise(0.3)\n",
        "    test_data = DataPreparation(x_test_fold, y_test_fold)\n",
        "    train_data.add_noise(0.3)\n",
        "    print('Data After Adding Noise and One Hot Encoded')\n",
        "    print(train_data.X.shape, train_data.Y.shape)\n",
        "    print(test_data.X.shape, test_data.Y.shape)\n",
        "    decoder = Decoder(x_train_fold, y_train_fold, x_test_fold, y_test_fold)\n",
        "    decoder_history.append(decoder.fit())\n",
        "    denoised_images.append(decoder.predict(x_test_fold))\n"
      ],
      "execution_count": 26,
      "outputs": [
        {
          "output_type": "stream",
          "text": [
            "Data After Adding Noise and One Hot Encoded\n",
            "(45000, 28, 28, 1) (45000, 10)\n",
            "(15000, 28, 28, 1) (15000, 10)\n"
          ],
          "name": "stdout"
        },
        {
          "output_type": "error",
          "ename": "ValueError",
          "evalue": "ignored",
          "traceback": [
            "\u001b[0;31m---------------------------------------------------------------------------\u001b[0m",
            "\u001b[0;31mValueError\u001b[0m                                Traceback (most recent call last)",
            "\u001b[0;32m<ipython-input-26-37889ea1e3ae>\u001b[0m in \u001b[0;36m<module>\u001b[0;34m()\u001b[0m\n\u001b[1;32m     17\u001b[0m     \u001b[0mprint\u001b[0m\u001b[0;34m(\u001b[0m\u001b[0mtest_data\u001b[0m\u001b[0;34m.\u001b[0m\u001b[0mX\u001b[0m\u001b[0;34m.\u001b[0m\u001b[0mshape\u001b[0m\u001b[0;34m,\u001b[0m \u001b[0mtest_data\u001b[0m\u001b[0;34m.\u001b[0m\u001b[0mY\u001b[0m\u001b[0;34m.\u001b[0m\u001b[0mshape\u001b[0m\u001b[0;34m)\u001b[0m\u001b[0;34m\u001b[0m\u001b[0;34m\u001b[0m\u001b[0m\n\u001b[1;32m     18\u001b[0m     \u001b[0mdecoder\u001b[0m \u001b[0;34m=\u001b[0m \u001b[0mDecoder\u001b[0m\u001b[0;34m(\u001b[0m\u001b[0mx_train_fold\u001b[0m\u001b[0;34m,\u001b[0m \u001b[0my_train_fold\u001b[0m\u001b[0;34m,\u001b[0m \u001b[0mx_test_fold\u001b[0m\u001b[0;34m,\u001b[0m \u001b[0my_test_fold\u001b[0m\u001b[0;34m)\u001b[0m\u001b[0;34m\u001b[0m\u001b[0;34m\u001b[0m\u001b[0m\n\u001b[0;32m---> 19\u001b[0;31m     \u001b[0mdecoder_history\u001b[0m\u001b[0;34m.\u001b[0m\u001b[0mappend\u001b[0m\u001b[0;34m(\u001b[0m\u001b[0mdecoder\u001b[0m\u001b[0;34m.\u001b[0m\u001b[0mfit\u001b[0m\u001b[0;34m(\u001b[0m\u001b[0;34m)\u001b[0m\u001b[0;34m)\u001b[0m\u001b[0;34m\u001b[0m\u001b[0;34m\u001b[0m\u001b[0m\n\u001b[0m\u001b[1;32m     20\u001b[0m     \u001b[0mdenoised_images\u001b[0m\u001b[0;34m.\u001b[0m\u001b[0mappend\u001b[0m\u001b[0;34m(\u001b[0m\u001b[0mdecoder\u001b[0m\u001b[0;34m.\u001b[0m\u001b[0mpredict\u001b[0m\u001b[0;34m(\u001b[0m\u001b[0mx_test_fold\u001b[0m\u001b[0;34m)\u001b[0m\u001b[0;34m)\u001b[0m\u001b[0;34m\u001b[0m\u001b[0;34m\u001b[0m\u001b[0m\n",
            "\u001b[0;32m<ipython-input-24-32c19cd1f455>\u001b[0m in \u001b[0;36mfit\u001b[0;34m(self, activation, optimizer)\u001b[0m\n\u001b[1;32m     26\u001b[0m         history = self.autoencoder.fit(self.X,self.X, epochs = self.epochs, batch_size=256, verbose=2,\n\u001b[1;32m     27\u001b[0m                 \u001b[0mshuffle\u001b[0m\u001b[0;34m=\u001b[0m\u001b[0;32mTrue\u001b[0m\u001b[0;34m,\u001b[0m\u001b[0;34m\u001b[0m\u001b[0;34m\u001b[0m\u001b[0m\n\u001b[0;32m---> 28\u001b[0;31m                 validation_data=(self.X_test, self.Y_test))\n\u001b[0m\u001b[1;32m     29\u001b[0m \u001b[0;34m\u001b[0m\u001b[0m\n\u001b[1;32m     30\u001b[0m \u001b[0;34m\u001b[0m\u001b[0m\n",
            "\u001b[0;32m/usr/local/lib/python3.6/dist-packages/keras/engine/training.py\u001b[0m in \u001b[0;36mfit\u001b[0;34m(self, x, y, batch_size, epochs, verbose, callbacks, validation_split, validation_data, shuffle, class_weight, sample_weight, initial_epoch, steps_per_epoch, validation_steps, **kwargs)\u001b[0m\n\u001b[1;32m    950\u001b[0m             \u001b[0msample_weight\u001b[0m\u001b[0;34m=\u001b[0m\u001b[0msample_weight\u001b[0m\u001b[0;34m,\u001b[0m\u001b[0;34m\u001b[0m\u001b[0;34m\u001b[0m\u001b[0m\n\u001b[1;32m    951\u001b[0m             \u001b[0mclass_weight\u001b[0m\u001b[0;34m=\u001b[0m\u001b[0mclass_weight\u001b[0m\u001b[0;34m,\u001b[0m\u001b[0;34m\u001b[0m\u001b[0;34m\u001b[0m\u001b[0m\n\u001b[0;32m--> 952\u001b[0;31m             batch_size=batch_size)\n\u001b[0m\u001b[1;32m    953\u001b[0m         \u001b[0;31m# Prepare validation data.\u001b[0m\u001b[0;34m\u001b[0m\u001b[0;34m\u001b[0m\u001b[0;34m\u001b[0m\u001b[0m\n\u001b[1;32m    954\u001b[0m         \u001b[0mdo_validation\u001b[0m \u001b[0;34m=\u001b[0m \u001b[0;32mFalse\u001b[0m\u001b[0;34m\u001b[0m\u001b[0;34m\u001b[0m\u001b[0m\n",
            "\u001b[0;32m/usr/local/lib/python3.6/dist-packages/keras/engine/training.py\u001b[0m in \u001b[0;36m_standardize_user_data\u001b[0;34m(self, x, y, sample_weight, class_weight, check_array_lengths, batch_size)\u001b[0m\n\u001b[1;32m    787\u001b[0m                 \u001b[0mfeed_output_shapes\u001b[0m\u001b[0;34m,\u001b[0m\u001b[0;34m\u001b[0m\u001b[0;34m\u001b[0m\u001b[0m\n\u001b[1;32m    788\u001b[0m                 \u001b[0mcheck_batch_axis\u001b[0m\u001b[0;34m=\u001b[0m\u001b[0;32mFalse\u001b[0m\u001b[0;34m,\u001b[0m  \u001b[0;31m# Don't enforce the batch size.\u001b[0m\u001b[0;34m\u001b[0m\u001b[0;34m\u001b[0m\u001b[0m\n\u001b[0;32m--> 789\u001b[0;31m                 exception_prefix='target')\n\u001b[0m\u001b[1;32m    790\u001b[0m \u001b[0;34m\u001b[0m\u001b[0m\n\u001b[1;32m    791\u001b[0m             \u001b[0;31m# Generate sample-wise weight values given the `sample_weight` and\u001b[0m\u001b[0;34m\u001b[0m\u001b[0;34m\u001b[0m\u001b[0;34m\u001b[0m\u001b[0m\n",
            "\u001b[0;32m/usr/local/lib/python3.6/dist-packages/keras/engine/training_utils.py\u001b[0m in \u001b[0;36mstandardize_input_data\u001b[0;34m(data, names, shapes, check_batch_axis, exception_prefix)\u001b[0m\n\u001b[1;32m    136\u001b[0m                             \u001b[0;34m': expected '\u001b[0m \u001b[0;34m+\u001b[0m \u001b[0mnames\u001b[0m\u001b[0;34m[\u001b[0m\u001b[0mi\u001b[0m\u001b[0;34m]\u001b[0m \u001b[0;34m+\u001b[0m \u001b[0;34m' to have shape '\u001b[0m \u001b[0;34m+\u001b[0m\u001b[0;34m\u001b[0m\u001b[0;34m\u001b[0m\u001b[0m\n\u001b[1;32m    137\u001b[0m                             \u001b[0mstr\u001b[0m\u001b[0;34m(\u001b[0m\u001b[0mshape\u001b[0m\u001b[0;34m)\u001b[0m \u001b[0;34m+\u001b[0m \u001b[0;34m' but got array with shape '\u001b[0m \u001b[0;34m+\u001b[0m\u001b[0;34m\u001b[0m\u001b[0;34m\u001b[0m\u001b[0m\n\u001b[0;32m--> 138\u001b[0;31m                             str(data_shape))\n\u001b[0m\u001b[1;32m    139\u001b[0m     \u001b[0;32mreturn\u001b[0m \u001b[0mdata\u001b[0m\u001b[0;34m\u001b[0m\u001b[0;34m\u001b[0m\u001b[0m\n\u001b[1;32m    140\u001b[0m \u001b[0;34m\u001b[0m\u001b[0m\n",
            "\u001b[0;31mValueError\u001b[0m: Error when checking target: expected dense_13 to have shape (28, 784) but got array with shape (28, 28)"
          ]
        }
      ]
    },
    {
      "cell_type": "code",
      "metadata": {
        "id": "bfv6yiG_8d0R",
        "colab_type": "code",
        "colab": {}
      },
      "source": [
        ""
      ],
      "execution_count": 0,
      "outputs": []
    },
    {
      "cell_type": "code",
      "metadata": {
        "id": "lzV2Xep7GW7y",
        "colab_type": "code",
        "colab": {
          "base_uri": "https://localhost:8080/",
          "height": 85
        },
        "outputId": "01158316-3ddc-4858-9c85-2bbe4ecc10e9"
      },
      "source": [
        "\n",
        "    \n"
      ],
      "execution_count": 17,
      "outputs": [
        {
          "output_type": "stream",
          "text": [
            "[14466 14475 14476 ... 59997 59998 59999] [    0     1     2 ... 15397 15402 15427]\n",
            "[    0     1     2 ... 59997 59998 59999] [14466 14475 14476 ... 30593 30614 30625]\n",
            "[    0     1     2 ... 59997 59998 59999] [29277 29294 29302 ... 45518 45522 45533]\n",
            "[    0     1     2 ... 45518 45522 45533] [44418 44422 44428 ... 59997 59998 59999]\n"
          ],
          "name": "stdout"
        }
      ]
    },
    {
      "cell_type": "code",
      "metadata": {
        "id": "hSq08caiGnv3",
        "colab_type": "code",
        "colab": {}
      },
      "source": [
        ""
      ],
      "execution_count": 0,
      "outputs": []
    }
  ]
}